{
 "cells": [
  {
   "cell_type": "markdown",
   "metadata": {},
   "source": [
    "# Some algebra of generators, Brownian movements and showing some features of randomness\n"
   ]
  },
  {
   "cell_type": "markdown",
   "metadata": {},
   "source": [
    "Python generators are some interesting beasts. They are vastly more powerful than functions and if you use the send method, they are full on coroutines. However in this post I want to examine a subset of its functionality first and determine the algebraic structures within that subset. \n",
    "\n",
    "I am going to examine generators with only using the yield keyword and yield keyword and use the generator expression syntax. Also internal state is allowed. \n",
    "\n",
    "E.g."
   ]
  },
  {
   "cell_type": "code",
   "execution_count": 3,
   "metadata": {},
   "outputs": [],
   "source": [
    "def fib():\n",
    "    a = 0\n",
    "    b = 1 \n",
    "    while True:\n",
    "        yield a\n",
    "        t = (a + b)\n",
    "        a = b \n",
    "        b = t"
   ]
  },
  {
   "cell_type": "markdown",
   "metadata": {},
   "source": [
    "Because generators often won't stop producing data, they can be streams, infinite lists. We need some tools to properly observe them. For now observe, take and drop are enough."
   ]
  },
  {
   "cell_type": "code",
   "execution_count": 7,
   "metadata": {},
   "outputs": [],
   "source": [
    "def repeat(n):\n",
    "    while True:\n",
    "        yield n\n",
    "        \n",
    "def observe(n,gen):\n",
    "    return list(next(gen) for _ in range (0,n))\n",
    "\n",
    "def take(n, gen):\n",
    "    yield from (next(gen) for _ in range(0,n))\n",
    "\n",
    "def drop(n,gen):\n",
    "    for _ in range(0,n):\n",
    "        next(gen)\n",
    "    yield from (next(gen) for _ in repeat(None))\n",
    "        "
   ]
  },
  {
   "cell_type": "raw",
   "metadata": {},
   "source": [
    "Observe will force the first n items as a list. Take will return the first n items of the generator as a new generator. Drop will drop the first n items of the generator. E.g"
   ]
  },
  {
   "cell_type": "code",
   "execution_count": 43,
   "metadata": {},
   "outputs": [
    {
     "data": {
      "text/plain": [
       "[0, 1, 1, 2, 3, 5, 8, 13, 21]"
      ]
     },
     "execution_count": 43,
     "metadata": {},
     "output_type": "execute_result"
    }
   ],
   "source": [
    "list(take(10,fib()))"
   ]
  },
  {
   "cell_type": "code",
   "execution_count": 42,
   "metadata": {},
   "outputs": [
    {
     "data": {
      "text/plain": [
       "True"
      ]
     },
     "execution_count": 42,
     "metadata": {},
     "output_type": "execute_result"
    }
   ],
   "source": [
    "observe(10,take(10,fib())) == observe(10, fib())"
   ]
  },
  {
   "cell_type": "code",
   "execution_count": null,
   "metadata": {},
   "outputs": [],
   "source": [
    "observe(10,drop(10,fib()))"
   ]
  },
  {
   "cell_type": "markdown",
   "metadata": {},
   "source": [
    "Now we have these, lets explore generators a bit more. I would like to show it are free monoids. \n",
    "A monoid is a algebraic structure with the following properties: \n",
    "\n",
    "It has a set *M*. An operation *(+)* that can add members of *M* together and will yield a new element of *M* and a special member *e* of *M* called unit. \n",
    "\n",
    "Further more the operation (+) is closed, that means that for every two members of *M* we get a new element of *M* and never go outside of *M*. \n",
    "\n",
    "Let's write down some rules for the monoid (a and b are members of M):\n",
    "\n",
    "a + (b + c) = (a + b) + b (associativity)\n",
    "a + e = e + a = a  (identity)\n",
    "\n",
    "And certain monoids are commutative:\n",
    "\n",
    "a + b = b + a (commutativity)\n",
    "\n",
    "if a,b are members of M then so is a+b (closure)\n",
    "\n",
    "Examples of monoids are the natural numbers, lists of elements and void in programming languages.\n",
    "\n",
    "Then there is a special monoid, that can turn every set S of objects into a monoid. This is called the Free monoid. \n",
    "\n",
    "Lists are free monoids. We can lift all objects of set S in a list like so: \n",
    "\n",
    "M* = { List(x) for every x in S }\n",
    "\n",
    "Now it is not a monoid yet, because we lack the structure. For example the above set M* misses the unit. So let's create that. First we tack on the empty list:\n",
    "\n",
    "M = M* U { List() } \n",
    "\n",
    "List concatenation will be our operation. \n",
    "\n",
    "It is not hard to show this indeed follow the rules, but I am not going to do that here. \n",
    "\n",
    "So that is nice, we can turn every set of objects into an monoid. That is why it is called free!\n",
    "\n",
    "However to do something useful with this, we need to interpret this. That will come later.\n",
    "\n",
    "## Generators can simulate lists\n",
    "\n",
    "It is easy to show that every list can be a generator, but not every generator is a list, at least in python. If we allow infinite lists, the notions come closer together. \n"
   ]
  },
  {
   "cell_type": "code",
   "execution_count": 8,
   "metadata": {},
   "outputs": [
    {
     "data": {
      "text/plain": [
       "[1, 2, 3]"
      ]
     },
     "execution_count": 8,
     "metadata": {},
     "output_type": "execute_result"
    }
   ],
   "source": [
    "def listToGenerator(lst):\n",
    "    for i in lst:\n",
    "        yield i \n",
    "\n",
    "observe(3,listToGenerator([1,2,3,4]))"
   ]
  },
  {
   "cell_type": "markdown",
   "metadata": {},
   "source": [
    "And to show there are generators that are not lists (in python): "
   ]
  },
  {
   "cell_type": "code",
   "execution_count": null,
   "metadata": {},
   "outputs": [],
   "source": [
    "def nonListGenerator():\n",
    "    while True:\n",
    "        yield 1\n",
    "\n",
    "list(nonListGenerator())"
   ]
  },
  {
   "cell_type": "markdown",
   "metadata": {},
   "source": [
    "The above program will never finish. "
   ]
  },
  {
   "cell_type": "markdown",
   "metadata": {},
   "source": [
    "# Brownian motion"
   ]
  },
  {
   "cell_type": "markdown",
   "metadata": {},
   "source": [
    "Brownian motion is the random movement we observe in a gas. It comes from the energy in each particle and its interactions with others. Wikipedia has a nice picture of this: \n",
    "\n",
    "\n",
    "![Brownian motion](https://upload.wikimedia.org/wikipedia/commons/5/51/Brownianmotion5particles150frame.gif)\n",
    "\n",
    "We can simulate a discrete version of this by taking a random source, transforming it outputs into directions and applying these to a particle.\n",
    "\n",
    "Let's call this the random taxicab ride, to honor the [taxicab metric](https://en.wikipedia.org/wiki/Taxicab_geometry). And we are going to define it with generators as free monoids and some utilities we will write to visualize our taxi. \n",
    "\n",
    "The goal is to get a stream of positions of our cab. Lets build this.\n",
    "First we import some utilities:"
   ]
  },
  {
   "cell_type": "code",
   "execution_count": 15,
   "metadata": {},
   "outputs": [],
   "source": [
    "import numpy as np\n",
    "import matplotlib.pyplot as plt\n",
    "%matplotlib inline\n",
    "from numpy.random import default_rng\n"
   ]
  },
  {
   "cell_type": "markdown",
   "metadata": {},
   "source": [
    "Then we need to think about the movements of our cab. How many degrees of freedom does it have? I count 4. It can go left, right, up and down. And lets also tack on doing nothing. So we want a stream that generate a random stream of {1,2,3,4}'s"
   ]
  },
  {
   "cell_type": "code",
   "execution_count": 20,
   "metadata": {},
   "outputs": [],
   "source": [
    "def cabDirections():\n",
    "    rng = default_rng()\n",
    "    while True:\n",
    "        yield rng.integers(1,5)"
   ]
  },
  {
   "cell_type": "code",
   "execution_count": 21,
   "metadata": {},
   "outputs": [
    {
     "data": {
      "text/plain": [
       "[3, 2, 1, 2, 2, 2, 1, 4, 2, 2]"
      ]
     },
     "execution_count": 21,
     "metadata": {},
     "output_type": "execute_result"
    }
   ],
   "source": [
    "observe(10,cabDirections())"
   ]
  },
  {
   "cell_type": "markdown",
   "metadata": {},
   "source": [
    "Nice that works!\n",
    "Now we need to model our taxi. We can imagine it runs on an infinite grid of integer positions and the taxi itself has a position. So a reasonable model of our taxi would be this:\n",
    "\n",
    "$$ taxi = \\pmatrix{x \\\\ y} $$\n",
    "\n",
    "Just its position. For the movement we need to map every direction into a vector: \n",
    "\n",
    "$$L = \\pmatrix{-1 \\\\ 0}$$\n",
    "$$R = \\pmatrix{1 \\\\ 0}$$\n",
    "$$U = \\pmatrix{0 \\\\ 1}$$\n",
    "$$D = \\pmatrix{0 \\\\ -1}$$\n",
    "\n",
    "And we can define a distance as follow:\n",
    "$$d(a,b) = |a_1 - b_1| + |a_2 - b_2|$$\n",
    "\n",
    "That is the distance the taxi should travel to go from point a to b. \n",
    "\n",
    "We can easily show that the taxi can travel everywhere combining the above vectors, given a random position (x,y):\n",
    "\n",
    "$$\\pmatrix{x\\\\y} = x \\pmatrix{1 \\\\ 0} + y  \\pmatrix{0 \\\\ 1}$$\n"
   ]
  },
  {
   "cell_type": "markdown",
   "metadata": {},
   "source": [
    "We also define the taxi can only do one step at a time. Now write this in code:"
   ]
  },
  {
   "cell_type": "code",
   "execution_count": 23,
   "metadata": {},
   "outputs": [
    {
     "data": {
      "text/plain": [
       "[array([1, 0]),\n",
       " array([1, 0]),\n",
       " array([1, 0]),\n",
       " array([ 0, -1]),\n",
       " array([0, 1]),\n",
       " array([1, 0]),\n",
       " array([-1,  0]),\n",
       " array([1, 0]),\n",
       " array([-1,  0]),\n",
       " array([1, 0])]"
      ]
     },
     "execution_count": 23,
     "metadata": {},
     "output_type": "execute_result"
    }
   ],
   "source": [
    "def gmap(f,gen):\n",
    "    yield from (f(x) for x in gen)\n",
    "# map directions to a vector\n",
    "def dirToVec(x):\n",
    "    if x == 1: # L \n",
    "        return np.array([-1,0])\n",
    "    if x == 2: # R\n",
    "        return np.array([1,0])\n",
    "    if x == 3: # U\n",
    "        return np.array([0,1])\n",
    "    if x == 4: # D\n",
    "        return np.array([0,-1])\n",
    "    \n",
    "def taxiMovements():\n",
    "    yield from gmap(dirToVec,cabDirections()) \n",
    "    \n",
    "    \n",
    "observe(10, taxiMovements())    "
   ]
  },
  {
   "cell_type": "markdown",
   "metadata": {},
   "source": [
    "Nice, we build some up some nice vocabulary and show that generators are Endofunctors by writing a map function for it. \n",
    "\n",
    "Now we need a generator that takes in the above generator and maps it into a stream  of positions of the taxi. This generator takes in a start position and then generates the positions. \n"
   ]
  },
  {
   "cell_type": "code",
   "execution_count": 31,
   "metadata": {},
   "outputs": [],
   "source": [
    "def fold(f,s,g):\n",
    "    for x in g:\n",
    "        s = f(s,x)\n",
    "        yield s\n",
    "        \n",
    "def taxi(pos = np.array([0,0])):\n",
    "    yield from fold(lambda current_pos,direction: np.add(current_pos,direction),pos,taxiMovements())"
   ]
  },
  {
   "cell_type": "code",
   "execution_count": 32,
   "metadata": {},
   "outputs": [
    {
     "data": {
      "text/plain": [
       "[array([-1,  0]),\n",
       " array([-2,  0]),\n",
       " array([-2,  1]),\n",
       " array([-3,  1]),\n",
       " array([-3,  0]),\n",
       " array([-2,  0]),\n",
       " array([-1,  0]),\n",
       " array([-1, -1]),\n",
       " array([ 0, -1]),\n",
       " array([ 0, -2])]"
      ]
     },
     "execution_count": 32,
     "metadata": {},
     "output_type": "execute_result"
    }
   ],
   "source": [
    "observe(10,taxi())"
   ]
  },
  {
   "cell_type": "code",
   "execution_count": null,
   "metadata": {},
   "outputs": [],
   "source": [
    "Nice, now we can plot how our taxi moves:"
   ]
  },
  {
   "cell_type": "code",
   "execution_count": 41,
   "metadata": {},
   "outputs": [
    {
     "data": {
      "text/plain": [
       "[<matplotlib.lines.Line2D at 0x7f14b9a316d0>]"
      ]
     },
     "execution_count": 41,
     "metadata": {},
     "output_type": "execute_result"
    },
    {
     "data": {
      "image/png": "[encoded data removed]",
      "text/plain": [
       "<Figure size 432x288 with 1 Axes>"
      ]
     },
     "metadata": {
      "needs_background": "light"
     },
     "output_type": "display_data"
    }
   ],
   "source": [
    "\n",
    "def observeArray(n,g):\n",
    "    return np.array(n, g)\n",
    "\n",
    "import matplotlib.pyplot as plt\n",
    "fig = plt.figure()\n",
    "ax = plt.axes()\n",
    "plt.grid()\n",
    "x,y = observeArray(100,taxi()).T\n",
    "plt.plot(x,y)"
   ]
  },
  {
   "cell_type": "code",
   "execution_count": null,
   "metadata": {},
   "outputs": [],
   "source": [
    "Or a bit more fancy, we can see what places our random taxi frequents the most: "
   ]
  },
  {
   "cell_type": "code",
   "execution_count": 45,
   "metadata": {},
   "outputs": [
    {
     "data": {
      "text/plain": [
       "<matplotlib.collections.PathCollection at 0x7f14b9b8e390>"
      ]
     },
     "execution_count": 45,
     "metadata": {},
     "output_type": "execute_result"
    },
    {
     "data": {
      "image/png": "[encoded data removed]",
      "text/plain": [
       "<Figure size 432x288 with 1 Axes>"
      ]
     },
     "metadata": {
      "needs_background": "light"
     },
     "output_type": "display_data"
    }
   ],
   "source": [
    "from scipy.stats import gaussian_kde\n",
    "\n",
    "xy = np.vstack([x,y])\n",
    "z = gaussian_kde(xy)(xy)\n",
    "\n",
    "fig, ax = plt.subplots()\n",
    "ax.scatter(x, y, c=z, s=100, edgecolor='')\n"
   ]
  },
  {
   "cell_type": "code",
   "execution_count": null,
   "metadata": {},
   "outputs": [],
   "source": []
  },
  {
   "cell_type": "code",
   "execution_count": null,
   "metadata": {},
   "outputs": [],
   "source": []
  },
  {
   "cell_type": "code",
   "execution_count": null,
   "metadata": {},
   "outputs": [],
   "source": []
  }
 ],
 "metadata": {
  "kernelspec": {
   "display_name": "Python 3",
   "language": "python",
   "name": "python3"
  },
  "language_info": {
   "codemirror_mode": {
    "name": "ipython",
    "version": 3
   },
   "file_extension": ".py",
   "mimetype": "text/x-python",
   "name": "python",
   "nbconvert_exporter": "python",
   "pygments_lexer": "ipython3",
   "version": "3.7.6"
  }
 },
 "nbformat": 4,
 "nbformat_minor": 4
}
