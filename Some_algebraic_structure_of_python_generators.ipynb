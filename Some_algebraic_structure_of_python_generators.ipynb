{
 "cells": [
  {
   "cell_type": "markdown",
   "metadata": {},
   "source": [
    "# Some algebra of generators, Brownian movements and showing some features of randomness\n"
   ]
  },
  {
   "cell_type": "markdown",
   "metadata": {},
   "source": [
    "Python generators are some interesting beasts. They are vastly more powerful than functions and if you use the send method, they are full on coroutines. However in this post I want to examine a subset of its functionality first and determine the algebraic structures within that subset. \n",
    "\n",
    "I am going to examine generators with only using the yield keyword and yield keyword and use the generator expression syntax. Also internal state is allowed. \n",
    "\n",
    "E.g."
   ]
  },
  {
   "cell_type": "code",
   "execution_count": 3,
   "metadata": {},
   "outputs": [],
   "source": [
    "def fib():\n",
    "    a = 0\n",
    "    b = 1 \n",
    "    while True:\n",
    "        yield a\n",
    "        t = (a + b)\n",
    "        a = b \n",
    "        b = t"
   ]
  },
  {
   "cell_type": "markdown",
   "metadata": {},
   "source": [
    "Because generators often won't stop producing data, they can be streams, infinite lists. We need some tools to properly observe them. For now observe, take and drop are enough."
   ]
  },
  {
   "cell_type": "code",
   "execution_count": 7,
   "metadata": {},
   "outputs": [],
   "source": [
    "def repeat(n):\n",
    "    while True:\n",
    "        yield n\n",
    "        \n",
    "def observe(n,gen):\n",
    "    return list(next(gen) for _ in range (0,n))\n",
    "\n",
    "def take(n, gen):\n",
    "    yield from (next(gen) for _ in range(0,n))\n",
    "\n",
    "def drop(n,gen):\n",
    "    for _ in range(0,n):\n",
    "        next(gen)\n",
    "    yield from (next(gen) for _ in repeat(None))\n",
    "        "
   ]
  },
  {
   "cell_type": "raw",
   "metadata": {},
   "source": [
    "Observe will force the first n items as a list. Take will return the first n items of the generator as a new generator. Drop will drop the first n items of the generator. E.g"
   ]
  },
  {
   "cell_type": "code",
   "execution_count": 43,
   "metadata": {},
   "outputs": [
    {
     "data": {
      "text/plain": [
       "[0, 1, 1, 2, 3, 5, 8, 13, 21]"
      ]
     },
     "execution_count": 43,
     "metadata": {},
     "output_type": "execute_result"
    }
   ],
   "source": [
    "list(take(10,fib()))"
   ]
  },
  {
   "cell_type": "code",
   "execution_count": 42,
   "metadata": {},
   "outputs": [
    {
     "data": {
      "text/plain": [
       "True"
      ]
     },
     "execution_count": 42,
     "metadata": {},
     "output_type": "execute_result"
    }
   ],
   "source": [
    "observe(10,take(10,fib())) == observe(10, fib())"
   ]
  },
  {
   "cell_type": "code",
   "execution_count": null,
   "metadata": {},
   "outputs": [],
   "source": [
    "observe(10,drop(10,fib()))"
   ]
  },
  {
   "cell_type": "markdown",
   "metadata": {},
   "source": [
    "Now we have these, lets explore generators a bit more. I would like to show it are free monoids. \n",
    "A monoid is a algebraic structure with the following properties: \n",
    "\n",
    "It has a set *M*. An operation *(+)* that can add members of *M* together and will yield a new element of *M* and a special member *e* of *M* called unit. \n",
    "\n",
    "Further more the operation (+) is closed, that means that for every two members of *M* we get a new element of *M* and never go outside of *M*. \n",
    "\n",
    "Let's write down some rules for the monoid (a and b are members of M):\n",
    "\n",
    "a + (b + c) = (a + b) + b (associativity)\n",
    "a + e = e + a = a  (identity)\n",
    "\n",
    "And certain monoids are commutative:\n",
    "\n",
    "a + b = b + a (commutativity)\n",
    "\n",
    "if a,b are members of M then so is a+b (closure)\n",
    "\n",
    "Examples of monoids are the natural numbers, lists of elements and void in programming languages.\n",
    "\n",
    "Then there is a special monoid, that can turn every set S of objects into a monoid. This is called the Free monoid. \n",
    "\n",
    "Lists are free monoids. We can lift all objects of set S in a list like so: \n",
    "\n",
    "M* = { List(x) for every x in S }\n",
    "\n",
    "Now it is not a monoid yet, because we lack the structure. For example the above set M* misses the unit. So let's create that. First we tack on the empty list:\n",
    "\n",
    "M = M* U { List() } \n",
    "\n",
    "List concatenation will be our operation. \n",
    "\n",
    "It is not hard to show this indeed follow the rules, but I am not going to do that here. \n",
    "\n",
    "So that is nice, we can turn every set of objects into an monoid. That is why it is called free!\n",
    "\n",
    "However to do something useful with this, we need to interpret this. That will come later.\n",
    "\n",
    "## Generators can simulate lists\n",
    "\n",
    "It is easy to show that every list can be a generator, but not every generator is a list, at least in python. If we allow infinite lists, the notions come closer together. \n"
   ]
  },
  {
   "cell_type": "code",
   "execution_count": 8,
   "metadata": {},
   "outputs": [
    {
     "data": {
      "text/plain": [
       "[1, 2, 3]"
      ]
     },
     "execution_count": 8,
     "metadata": {},
     "output_type": "execute_result"
    }
   ],
   "source": [
    "def listToGenerator(lst):\n",
    "    for i in lst:\n",
    "        yield i \n",
    "\n",
    "observe(3,listToGenerator([1,2,3,4]))"
   ]
  },
  {
   "cell_type": "markdown",
   "metadata": {},
   "source": [
    "And to show there are generators that are not lists (in python): "
   ]
  },
  {
   "cell_type": "code",
   "execution_count": null,
   "metadata": {},
   "outputs": [],
   "source": [
    "def nonListGenerator():\n",
    "    while True:\n",
    "        yield 1\n",
    "\n",
    "list(nonListGenerator())"
   ]
  },
  {
   "cell_type": "markdown",
   "metadata": {},
   "source": [
    "# Brownian motion"
   ]
  },
  {
   "cell_type": "code",
   "execution_count": null,
   "metadata": {},
   "outputs": [],
   "source": []
  },
  {
   "cell_type": "code",
   "execution_count": null,
   "metadata": {},
   "outputs": [],
   "source": []
  },
  {
   "cell_type": "code",
   "execution_count": null,
   "metadata": {},
   "outputs": [],
   "source": []
  }
 ],
 "metadata": {
  "kernelspec": {
   "display_name": "Python 3",
   "language": "python",
   "name": "python3"
  },
  "language_info": {
   "codemirror_mode": {
    "name": "ipython",
    "version": 3
   },
   "file_extension": ".py",
   "mimetype": "text/x-python",
   "name": "python",
   "nbconvert_exporter": "python",
   "pygments_lexer": "ipython3",
   "version": "3.7.6"
  }
 },
 "nbformat": 4,
 "nbformat_minor": 4
}
